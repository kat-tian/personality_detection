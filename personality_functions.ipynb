{
  "nbformat": 4,
  "nbformat_minor": 0,
  "metadata": {
    "colab": {
      "name": "personality_functions.ipynb",
      "provenance": [],
      "collapsed_sections": []
    },
    "kernelspec": {
      "name": "python3",
      "display_name": "Python 3"
    }
  },
  "cells": [
    {
      "cell_type": "markdown",
      "metadata": {
        "id": "j6dZJBroJpPC",
        "colab_type": "text"
      },
      "source": [
        "## Other functions to use in personality insights \n",
        "\n",
        "* TextRank \n",
        "* NER \n",
        "* Sentiment Analysis \n"
      ]
    },
    {
      "cell_type": "code",
      "metadata": {
        "id": "Tu656vx3JgyQ",
        "colab_type": "code",
        "outputId": "1b505ad6-858f-404b-b50f-c6ef1191f5c4",
        "colab": {
          "base_uri": "https://localhost:8080/",
          "height": 122
        }
      },
      "source": [
        "from gensim.summarization import keywords\n",
        "\n",
        "import nltk\n",
        "nltk.download('stopwords')\n",
        "nltk.download('punkt')\n",
        "nltk.download('wordnet')\n",
        "from nltk import sent_tokenize, word_tokenize\n",
        "from nltk.stem.snowball import SnowballStemmer\n",
        "from nltk.stem.wordnet import WordNetLemmatizer\n",
        "from nltk.corpus import stopwords\n",
        "stop_words = set(stopwords.words('english'))\n",
        "lemmatizer = WordNetLemmatizer() \n",
        "\n",
        "\n",
        "import spacy\n",
        "from spacy import displacy\n",
        "from collections import Counter\n",
        "import en_core_web_sm\n",
        "nlp = en_core_web_sm.load()\n",
        "\n",
        "import pprint\n",
        "import numpy as np\n",
        "from textblob import TextBlob\n",
        "from sklearn.metrics.pairwise import cosine_similarity\n"
      ],
      "execution_count": 0,
      "outputs": [
        {
          "output_type": "stream",
          "text": [
            "[nltk_data] Downloading package stopwords to /root/nltk_data...\n",
            "[nltk_data]   Package stopwords is already up-to-date!\n",
            "[nltk_data] Downloading package punkt to /root/nltk_data...\n",
            "[nltk_data]   Package punkt is already up-to-date!\n",
            "[nltk_data] Downloading package wordnet to /root/nltk_data...\n",
            "[nltk_data]   Package wordnet is already up-to-date!\n"
          ],
          "name": "stdout"
        }
      ]
    },
    {
      "cell_type": "code",
      "metadata": {
        "id": "MgKB9cLJU1Uv",
        "colab_type": "code",
        "colab": {}
      },
      "source": [
        "input_text = \"As an Alaskan, I have been hiking and come across bears many times. Thankfully most were black bears, but they were still territorial with cubs. I stopped hiking for a year due to excessive bear/human interactions where I like to hike. Many people die because they don’t follow basic safety: don’t run/bike in bear territory, make noise all the while you hike so they know you are in the area, don’t get closer, slowly go back in the direction you came from, and always carry a weapon bear spray really doesn’t work but I carry it over a weapon because it’s better than nothing that is within 1 second reach  hanging on your person/bag and not in a bag or pocket. This is my first time being outside in nature for a week. It's something that I don't do everyday and it definitely gave me that sense of ruggedness that I was expecting, and that was really cool! - Juan, Alternative Break Volunteer Hear from college volunteers, like Juan, about what makes Alternative Breaks so special.It’s never too early to get kids outside. We always want evidence of safety when prescribing things for babies and young children, but there are also things we just know, and this is one of them. My 2 year old daughter having a blast hiking around Bear Lake in Rocky Mountain National Park! A nice hike on a nice chilly windy Washington Fall day Love seeing the leaves falling down as they do their swirling dance dance before my eyes Spend some time outside and give back to your public lands! Volunteer on National Public Lands Day Ready to pack some bags and head out of town! Tell us if you've checked any of these trails off your list Visits on class trips or family vacations to the rich variety of astonishing landscapes and historic treasures located on public lands will result in unforgettable experiences and, hopefully, forge lifelong connections to the outdoors\""
      ],
      "execution_count": 0,
      "outputs": []
    },
    {
      "cell_type": "code",
      "metadata": {
        "id": "OKWSZxsm7V6W",
        "colab_type": "code",
        "colab": {}
      },
      "source": [
        "input_text2 = \"Welcome to the hiker’s club! Do you want to find the most exciting hiking spots? Use the hiker’s club app. It is great way to find exciting new trails and places to hike. We will offer the best routes for your service. Hiking is a great experience and they are a treasure. You can try new trails and avoid bears. It is time to enjoy the outdoors. Go outsie! It is time for outdoor fun with the hiking app! Do you want to enjoy Alaskan nature or check out Washington park? Or go to a new exciting new place? Test our hiking app\""
      ],
      "execution_count": 0,
      "outputs": []
    },
    {
      "cell_type": "code",
      "metadata": {
        "id": "UN2MH3sKLITk",
        "colab_type": "code",
        "colab": {}
      },
      "source": [
        "def key_words(text):\n",
        "  \"\"\"Function removes stop words, lemmatizes, \n",
        "  uses textrank, and returns only unique values\"\"\"\n",
        "  keys = keywords(text).split('\\n')\n",
        "  clean_keys = [word for word in keys if word not in stop_words]\n",
        "  \n",
        "  lemm = []\n",
        "  for word in clean_keys: \n",
        "    lemm_key = lemmatizer.lemmatize(word)\n",
        "    lemm.append(lemm_key)\n",
        "    \n",
        "  return list(set(lemm))\n",
        "\n",
        "\n",
        "def entity_extraction(text):\n",
        "  \"\"\"Function reutrns entity tags for \n",
        "  input text\"\"\"\n",
        "  doc = nlp(text)\n",
        "  return pprint.pprint([(X.text, X.label_) for X in doc.ents])\n",
        "\n",
        "\n",
        "def sentiment_score(text): \n",
        "  \"\"\"\"\"\"\n",
        "  obj = TextBlob(text) \n",
        "  sentiment = obj.sentiment.polarity\n",
        "  return sentiment\n",
        "\n",
        "\n",
        "def get_cosine(array1,array2):\n",
        "  \"\"\"Take two np.array as input\n",
        "  return cosine similarity score betweeen arrays\"\"\"\n",
        "  array1 = array1.reshape(1,-1)\n",
        "  array2 = array2.reshape(1,-1)\n",
        "  return cosine_similarity(array1,array2)"
      ],
      "execution_count": 0,
      "outputs": []
    },
    {
      "cell_type": "code",
      "metadata": {
        "id": "Q03kc6jeQBjn",
        "colab_type": "code",
        "outputId": "98685a51-7b73-451f-da7e-41ba115c8b2a",
        "colab": {
          "base_uri": "https://localhost:8080/",
          "height": 34
        }
      },
      "source": [
        "#check sentiment output \n",
        "sentiment_score(text)\n",
        "\n",
        "if sentiment_score(text) == 0:\n",
        "  print('value is neutral')\n",
        "elif sentiment_score(text) > 0:\n",
        "  print('value is postive')\n",
        "else: \n",
        "  print('value is negative')"
      ],
      "execution_count": 0,
      "outputs": [
        {
          "output_type": "stream",
          "text": [
            "value is postive\n"
          ],
          "name": "stdout"
        }
      ]
    },
    {
      "cell_type": "code",
      "metadata": {
        "id": "4EFG406J3OoF",
        "colab_type": "code",
        "colab": {}
      },
      "source": [
        "comparison_keywords = key_words(input_text)"
      ],
      "execution_count": 0,
      "outputs": []
    },
    {
      "cell_type": "code",
      "metadata": {
        "id": "liYiZxdh7wAh",
        "colab_type": "code",
        "outputId": "028af114-e427-4069-ccab-03b67e676517",
        "colab": {
          "base_uri": "https://localhost:8080/",
          "height": 314
        }
      },
      "source": [
        "comparison_keywords"
      ],
      "execution_count": 0,
      "outputs": [
        {
          "output_type": "execute_result",
          "data": {
            "text/plain": [
              "['outside',\n",
              " 'forge lifelong',\n",
              " 'hiking',\n",
              " 'bear',\n",
              " 'treasure',\n",
              " 'basic',\n",
              " 'national',\n",
              " 'reach',\n",
              " 'hike',\n",
              " 'time',\n",
              " 'old daughter',\n",
              " 'falling',\n",
              " 'volunteer',\n",
              " 'land',\n",
              " 'fall day',\n",
              " 'alternative',\n",
              " 'juan']"
            ]
          },
          "metadata": {
            "tags": []
          },
          "execution_count": 62
        }
      ]
    },
    {
      "cell_type": "code",
      "metadata": {
        "id": "iOdM98J57dG8",
        "colab_type": "code",
        "colab": {}
      },
      "source": [
        " your_keywords = key_words(input_text2)"
      ],
      "execution_count": 0,
      "outputs": []
    },
    {
      "cell_type": "code",
      "metadata": {
        "id": "sRbjW1mS7msK",
        "colab_type": "code",
        "outputId": "cde080a6-8408-4a9a-e4da-979e1457929f",
        "colab": {
          "base_uri": "https://localhost:8080/",
          "height": 34
        }
      },
      "source": [
        "your_keywords"
      ],
      "execution_count": 0,
      "outputs": [
        {
          "output_type": "execute_result",
          "data": {
            "text/plain": [
              "['new', 'alaskan', 'hiking', 'hike', 'place', 'great']"
            ]
          },
          "metadata": {
            "tags": []
          },
          "execution_count": 64
        }
      ]
    },
    {
      "cell_type": "code",
      "metadata": {
        "id": "ZIh636o75ZWn",
        "colab_type": "code",
        "outputId": "8b7627b9-896b-40f9-d5a7-5d65dfce440a",
        "colab": {
          "base_uri": "https://localhost:8080/",
          "height": 244
        }
      },
      "source": [
        "comparison_ent = entity_extraction(input_text)"
      ],
      "execution_count": 0,
      "outputs": [
        {
          "output_type": "stream",
          "text": [
            "[('Alaskan', 'NORP'),\n",
            " ('1 second', 'TIME'),\n",
            " ('first', 'ORDINAL'),\n",
            " ('a week', 'DATE'),\n",
            " ('Juan', 'PERSON'),\n",
            " ('Alternative Breaks', 'ORG'),\n",
            " ('one', 'CARDINAL'),\n",
            " ('2 year old', 'DATE'),\n",
            " ('Bear Lake', 'LOC'),\n",
            " ('Rocky Mountain National Park', 'FAC'),\n",
            " ('Washington', 'GPE'),\n",
            " ('Fall day Love', 'WORK_OF_ART'),\n",
            " ('Volunteer', 'PERSON')]\n"
          ],
          "name": "stdout"
        }
      ]
    },
    {
      "cell_type": "code",
      "metadata": {
        "id": "Qc8fCYGo8R2i",
        "colab_type": "code",
        "outputId": "7514800b-8fe0-458c-f46f-54b38ac2e0ce",
        "colab": {
          "base_uri": "https://localhost:8080/",
          "height": 34
        }
      },
      "source": [
        "comparison_ent = entity_extraction(input_text2)"
      ],
      "execution_count": 0,
      "outputs": [
        {
          "output_type": "stream",
          "text": [
            "[('Alaskan', 'NORP'), ('Washington', 'GPE')]\n"
          ],
          "name": "stdout"
        }
      ]
    },
    {
      "cell_type": "code",
      "metadata": {
        "id": "sP4VS2sm4j29",
        "colab_type": "code",
        "outputId": "eee47079-e98c-4640-bf05-3a826164f21f",
        "colab": {
          "base_uri": "https://localhost:8080/",
          "height": 34
        }
      },
      "source": [
        "if sentiment_score(text) == 0:\n",
        "  print('value is neutral')\n",
        "elif sentiment_score(text) > 0:\n",
        "  print('value is postive')\n",
        "else: \n",
        "  print('value is negative')"
      ],
      "execution_count": 0,
      "outputs": [
        {
          "output_type": "stream",
          "text": [
            "value is postive\n"
          ],
          "name": "stdout"
        }
      ]
    },
    {
      "cell_type": "code",
      "metadata": {
        "id": "NPtQJRTmSUQL",
        "colab_type": "code",
        "outputId": "3628584f-f713-4aed-bf61-f2312375bc3a",
        "colab": {
          "base_uri": "https://localhost:8080/",
          "height": 34
        }
      },
      "source": [
        "#test cosine similarity \n",
        "x = np.array([2,3,1,0])\n",
        "y = np.array([2,3,0,0])\n",
        "\n",
        "\n",
        "\n",
        "get_cosine(x,y)"
      ],
      "execution_count": 0,
      "outputs": [
        {
          "output_type": "execute_result",
          "data": {
            "text/plain": [
              "array([[0.96362411]])"
            ]
          },
          "metadata": {
            "tags": []
          },
          "execution_count": 31
        }
      ]
    },
    {
      "cell_type": "code",
      "metadata": {
        "id": "vLWkdPH9SV3k",
        "colab_type": "code",
        "colab": {}
      },
      "source": [
        ""
      ],
      "execution_count": 0,
      "outputs": []
    },
    {
      "cell_type": "code",
      "metadata": {
        "id": "skWvvx6cnWEj",
        "colab_type": "code",
        "colab": {}
      },
      "source": [
        ""
      ],
      "execution_count": 0,
      "outputs": []
    }
  ]
}